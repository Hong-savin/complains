{
 "cells": [
  {
   "cell_type": "code",
   "execution_count": 1,
   "id": "07f2a26b",
   "metadata": {},
   "outputs": [],
   "source": [
    "import csv\n",
    "import pandas as pd\n",
    "import pymysql\n",
    "import sqlite3\n",
    "data = pd.read_csv(\"C:/Users/홍사빈/Desktop/archive/modified_data.csv\", low_memory=False)\n",
    "travel = csv.reader(data)\n",
    "next(travel)\n",
    "\n",
    "conn = pymysql.connect(host='127.0.0.1', port=3306,user='root',password='0000',db='mysql',charset='utf8')\n",
    "cur = conn.cursor()"
   ]
  },
  {
   "cell_type": "code",
   "execution_count": 2,
   "id": "ca116b99",
   "metadata": {},
   "outputs": [
    {
     "name": "stderr",
     "output_type": "stream",
     "text": [
      "C:\\Temp\\ipykernel_22728\\615542492.py:2: UserWarning: pandas only supports SQLAlchemy connectable (engine/connection) or database string URI or sqlite3 DBAPI2 connection. Other DBAPI2 objects are not tested. Please consider using SQLAlchemy.\n",
      "  df = pd.read_sql_query(query,conn)\n"
     ]
    }
   ],
   "source": [
    "query = \"SELECT * FROM modified_data\"\n",
    "df = pd.read_sql_query(query,conn)\n",
    "conn.close()"
   ]
  },
  {
   "cell_type": "code",
   "execution_count": 3,
   "id": "4a93b32c",
   "metadata": {},
   "outputs": [],
   "source": [
    "# 포터 스테머를 통해 어간 추출\n",
    "\n",
    "import pandas as pd\n",
    "from nltk.stem import PorterStemmer\n",
    "\n",
    "# PorterStemmer 객체 생성\n",
    "stemmer = PorterStemmer()\n",
    "\n",
    "# 'Consumer complaint narrative' 열에서 각 단어의 어간을 추출하여 새로운 열에 저장\n",
    "df['stemmed_text'] = df['Consumer complaint narrative'].apply(lambda x: ' '.join([stemmer.stem(word) for word in str(x).split()]))\n",
    "\n",
    "#print(df['stemmed_text'])"
   ]
  },
  {
   "cell_type": "code",
   "execution_count": 4,
   "id": "9dd711f5",
   "metadata": {},
   "outputs": [],
   "source": [
    "# 토큰화와 결합해 어간 추출\n",
    "\n",
    "from nltk.tokenize import word_tokenize\n",
    "\n",
    "# 'stemmed_text' 열에서 토큰화 실행\n",
    "tokens = df['stemmed_text'].apply(word_tokenize)\n",
    "\n",
    "# 모든 토큰에 대해 스테밍 실행\n",
    "for sentence_tokens in tokens:\n",
    "    stemmed_sentence = [stemmer.stem(token) for token in sentence_tokens]\n",
    "    #print(stemmed_sentence)"
   ]
  },
  {
   "cell_type": "code",
   "execution_count": 5,
   "id": "dd1ce376",
   "metadata": {},
   "outputs": [],
   "source": [
    "# 랭카스터 스테머\n",
    "\n",
    "from nltk.stem import LancasterStemmer\n",
    "\n",
    "# LancasterStemmer 객체 생성\n",
    "stemmer = LancasterStemmer()\n",
    "\n",
    "# 'Consumer complaint narrative' 열에서 각 단어의 어간을 추출하여 새로운 열에 저장\n",
    "df['stemmed_text2'] = df['Consumer complaint narrative'].apply(lambda x: ' '.join([stemmer.stem(word) for word in str(x).split()]))\n",
    "\n",
    "#print(df['stemmed_text2'])"
   ]
  },
  {
   "cell_type": "code",
   "execution_count": 6,
   "id": "c520a945",
   "metadata": {},
   "outputs": [],
   "source": [
    "# 표제어 추출\n",
    "\n",
    "from nltk.stem import WordNetLemmatizer\n",
    "\n",
    "# WordNetLemmatizer 객체 생성\n",
    "lemmatizer = WordNetLemmatizer()\n",
    "\n",
    "# 시리즈 객체 내의 각 텍스트를 문자열로 변환하고 표제어 추출 수행\n",
    "lemmatized_texts = df['Consumer complaint narrative'].apply(lambda x: lemmatizer.lemmatize(str(x)))\n",
    "\n",
    "#print(lemmatized_texts)"
   ]
  },
  {
   "cell_type": "code",
   "execution_count": 7,
   "id": "09bb44a4",
   "metadata": {},
   "outputs": [],
   "source": [
    "# 품사 태깅\n",
    "\n",
    "from nltk.tokenize import word_tokenize\n",
    "from nltk.stem import PorterStemmer\n",
    "import nltk\n",
    "\n",
    "# PorterStemmer 객체 생성\n",
    "stemmer = PorterStemmer()\n",
    "\n",
    "# 텍스트를 단어 토큰화하고 각 단어에 대해 어간 추출 수행\n",
    "tokens = df['stemmed_text'].apply(word_tokenize)\n",
    "\n",
    "for sentence_tokens in tokens:\n",
    "    stemmed_sentence = [stemmer.stem(token) for token in sentence_tokens]\n",
    "    #print(nltk.pos_tag(stemmed_sentence))"
   ]
  },
  {
   "cell_type": "code",
   "execution_count": null,
   "id": "489fad55",
   "metadata": {},
   "outputs": [],
   "source": []
  }
 ],
 "metadata": {
  "kernelspec": {
   "display_name": "Python 3 (ipykernel)",
   "language": "python",
   "name": "python3"
  },
  "language_info": {
   "codemirror_mode": {
    "name": "ipython",
    "version": 3
   },
   "file_extension": ".py",
   "mimetype": "text/x-python",
   "name": "python",
   "nbconvert_exporter": "python",
   "pygments_lexer": "ipython3",
   "version": "3.10.9"
  }
 },
 "nbformat": 4,
 "nbformat_minor": 5
}
