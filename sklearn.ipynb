{
 "cells": [
  {
   "cell_type": "code",
   "execution_count": 7,
   "id": "48eb52d7",
   "metadata": {},
   "outputs": [
    {
     "name": "stderr",
     "output_type": "stream",
     "text": [
      "[nltk_data] Downloading package movie_reviews to\n",
      "[nltk_data]     C:\\Users\\홍사빈\\AppData\\Roaming\\nltk_data...\n",
      "[nltk_data]   Package movie_reviews is already up-to-date!\n"
     ]
    },
    {
     "name": "stdout",
     "output_type": "stream",
     "text": [
      "['film', 'one', 'movie', 'like', 'even', 'good', 'time', 'story', 'would', 'much']\n"
     ]
    }
   ],
   "source": [
    "import nltk \n",
    "nltk.download('movie_reviews')\n",
    "from nltk.corpus import movie_reviews\n",
    "from nltk.tokenize import RegexpTokenizer\n",
    "from nltk.corpus import stopwords\n",
    "\n",
    "fileid = movie_reviews.fileids()\n",
    "\n",
    "documents = [list(movie_reviews.words(fileid)) for fileid in movie_reviews.fileids()]\n",
    "\n",
    "word_count = {}\n",
    "for text in documents:\n",
    "    for word in text:\n",
    "        word_count[word] = word_count.get(word, 0) + 1\n",
    "\n",
    "sorted_features = sorted(word_count, key=word_count.get, reverse=True)\n",
    "\n",
    "tokenizer=RegexpTokenizer(r\"\\w{3,}\")\n",
    "english_stops=set(stopwords.words('english'))\n",
    "\n",
    "documents=[movie_reviews.raw(fileid) for fileid in movie_reviews.fileids()]\n",
    "\n",
    "tokens = [[token for token in tokenizer.tokenize(doc) if token not in english_stops] for doc in documents]\n",
    "word_count = {}\n",
    "for text in tokens:\n",
    "    for word in text:\n",
    "        word_count[word] = word_count.get(word, 0) + 1\n",
    "\n",
    "sorted_features = sorted(word_count, key=word_count.get, reverse=True)\n",
    "\n",
    "print(sorted_features[:10])"
   ]
  },
  {
   "cell_type": "code",
   "execution_count": 8,
   "id": "720e9006",
   "metadata": {},
   "outputs": [],
   "source": [
    "word_features = sorted_features[:100]\n",
    "\n",
    "def document_features(document, word_features):\n",
    "    word_count={}\n",
    "    for word in document:\n",
    "        word_count[word]=word_count.get(word, 0) + 1\n",
    "        \n",
    "    features=[]\n",
    "    \n",
    "    for word in word_features:\n",
    "        features.append(word_count.get(word, 0))\n",
    "    return features\n",
    "\n",
    "feature_sets=[document_features(d, word_features) for d in tokens]"
   ]
  },
  {
   "cell_type": "code",
   "execution_count": 9,
   "id": "ce0d579a",
   "metadata": {},
   "outputs": [],
   "source": [
    "reviews=[movie_reviews.raw(fileid) for fileid in movie_reviews.fileids()]"
   ]
  },
  {
   "cell_type": "code",
   "execution_count": 10,
   "id": "88f4ad66",
   "metadata": {},
   "outputs": [
    {
     "name": "stdout",
     "output_type": "stream",
     "text": [
      "CountVectorizer(vocabulary=['film', 'one', 'movie', 'like', 'even', 'good',\n",
      "                            'time', 'story', 'would', 'much', 'character',\n",
      "                            'also', 'get', 'two', 'well', 'characters', 'first',\n",
      "                            'see', 'way', 'make', 'life', 'really', 'films',\n",
      "                            'plot', 'little', 'people', 'could', 'scene', 'man',\n",
      "                            'bad', ...])\n"
     ]
    }
   ],
   "source": [
    "from sklearn.feature_extraction.text import CountVectorizer\n",
    "\n",
    "cv = CountVectorizer(vocabulary=word_features)\n",
    "print(cv)"
   ]
  },
  {
   "cell_type": "code",
   "execution_count": 11,
   "id": "53d4e534",
   "metadata": {},
   "outputs": [
    {
     "name": "stdout",
     "output_type": "stream",
     "text": [
      "['film' 'one' 'movie' 'like' 'even' 'good' 'time' 'story' 'would' 'much'\n",
      " 'character' 'also' 'get' 'two' 'well' 'characters' 'first' 'see' 'way'\n",
      " 'make']\n",
      "['film', 'one', 'movie', 'like', 'even', 'good', 'time', 'story', 'would', 'much', 'character', 'also', 'get', 'two', 'well', 'characters', 'first', 'see', 'way', 'make']\n"
     ]
    }
   ],
   "source": [
    "reviews_cv=cv.fit_transform(reviews)\n",
    "print(cv.get_feature_names_out()[:20])\n",
    "print(word_features[:20])"
   ]
  },
  {
   "cell_type": "code",
   "execution_count": 12,
   "id": "edec1535",
   "metadata": {},
   "outputs": [
    {
     "name": "stdout",
     "output_type": "stream",
     "text": [
      "#type of count vectors:  <class 'scipy.sparse._csr.csr_matrix'>\n",
      "#shape of count vectors:  (2000, 100)\n",
      "#sample of count vector:\n",
      "  (0, 0)\t6\n",
      "  (0, 1)\t3\n",
      "  (0, 2)\t6\n",
      "  (0, 3)\t3\n",
      "  (0, 4)\t3\n",
      "  (0, 5)\t2\n",
      "  (0, 8)\t1\n"
     ]
    }
   ],
   "source": [
    "print('#type of count vectors: ', type(reviews_cv))\n",
    "print('#shape of count vectors: ', reviews_cv.shape)\n",
    "print('#sample of count vector:')\n",
    "print(reviews_cv[0, :10])"
   ]
  },
  {
   "cell_type": "code",
   "execution_count": null,
   "id": "7a88725b",
   "metadata": {},
   "outputs": [],
   "source": []
  }
 ],
 "metadata": {
  "kernelspec": {
   "display_name": "Python 3 (ipykernel)",
   "language": "python",
   "name": "python3"
  },
  "language_info": {
   "codemirror_mode": {
    "name": "ipython",
    "version": 3
   },
   "file_extension": ".py",
   "mimetype": "text/x-python",
   "name": "python",
   "nbconvert_exporter": "python",
   "pygments_lexer": "ipython3",
   "version": "3.10.9"
  }
 },
 "nbformat": 4,
 "nbformat_minor": 5
}
