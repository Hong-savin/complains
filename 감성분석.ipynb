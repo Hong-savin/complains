{
 "cells": [
  {
   "cell_type": "code",
   "execution_count": 4,
   "id": "ff919262",
   "metadata": {},
   "outputs": [
    {
     "name": "stderr",
     "output_type": "stream",
     "text": [
      "[nltk_data] Downloading package movie_reviews to\n",
      "[nltk_data]     C:\\Users\\홍사빈\\AppData\\Roaming\\nltk_data...\n",
      "[nltk_data]   Package movie_reviews is already up-to-date!\n"
     ]
    },
    {
     "name": "stdout",
     "output_type": "stream",
     "text": [
      "#review count:  2000\n",
      "#samples of file ids:  ['neg/cv000_29416.txt', 'neg/cv001_19502.txt', 'neg/cv002_17424.txt', 'neg/cv003_12683.txt', 'neg/cv004_12641.txt', 'neg/cv005_29357.txt', 'neg/cv006_17022.txt', 'neg/cv007_4992.txt', 'neg/cv008_29326.txt', 'neg/cv009_29417.txt']\n",
      "#categories of reviews:  ['neg', 'pos']\n",
      "#num of \"neg\" reviews:  1000\n",
      "#num of \"pos\" reviews:  1000\n",
      "#id of the first review:  neg/cv000_29416.txt\n",
      "#part of the first review:  plot : two teen couples go to a church party , drink and then drive . \n",
      "they get into an accident . \n",
      "one of the guys dies , but his girlfriend continues to see him in her life , and has nightmares . \n",
      "what's the deal ? \n",
      "watch the movie and \" sorta \" find out . . . \n",
      "critique : a mind-fuck movie for the teen generation that touches on a very cool idea , but presents it in a very bad package . \n",
      "which is what makes this review an even harder one to write , since i generally applaud films which attempt\n",
      "#sentiment of the first review:  ['neg']\n"
     ]
    }
   ],
   "source": [
    "import nltk\n",
    "nltk.download('movie_reviews')\n",
    "\n",
    "from nltk.corpus import movie_reviews\n",
    "\n",
    "print('#review count: ', len(movie_reviews.fileids()))\n",
    "print('#samples of file ids: ', movie_reviews.fileids()[:10])\n",
    "print('#categories of reviews: ', movie_reviews.categories())\n",
    "print('#num of \"neg\" reviews: ', len(movie_reviews.fileids(categories='neg')))\n",
    "print('#num of \"pos\" reviews: ', len(movie_reviews.fileids(categories='pos')))\n",
    "fileid=movie_reviews.fileids()[0]\n",
    "print('#id of the first review: ', fileid)\n",
    "print('#part of the first review: ', movie_reviews.raw(fileid)[:500])\n",
    "print('#sentiment of the first review: ', movie_reviews.categories(fileid))\n",
    "\n",
    "fileids=movie_reviews.fileids()\n",
    "reviews=[movie_reviews.raw(fileid) for fileid in fileids]\n",
    "categories=[movie_reviews.categories(fileid)[0] for fileid in fileids]"
   ]
  },
  {
   "cell_type": "code",
   "execution_count": 5,
   "id": "1129e812",
   "metadata": {},
   "outputs": [
    {
     "name": "stdout",
     "output_type": "stream",
     "text": [
      "Collecting textblob\n",
      "  Downloading textblob-0.18.0.post0-py3-none-any.whl (626 kB)\n",
      "     -------------------------------------- 626.3/626.3 kB 4.9 MB/s eta 0:00:00\n",
      "Collecting nltk>=3.8\n",
      "  Using cached nltk-3.8.1-py3-none-any.whl (1.5 MB)\n",
      "Requirement already satisfied: tqdm in c:\\anaconda3\\lib\\site-packages (from nltk>=3.8->textblob) (4.64.1)\n",
      "Requirement already satisfied: joblib in c:\\anaconda3\\lib\\site-packages (from nltk>=3.8->textblob) (1.3.2)\n",
      "Requirement already satisfied: regex>=2021.8.3 in c:\\anaconda3\\lib\\site-packages (from nltk>=3.8->textblob) (2022.7.9)\n",
      "Requirement already satisfied: click in c:\\anaconda3\\lib\\site-packages (from nltk>=3.8->textblob) (8.0.4)\n",
      "Requirement already satisfied: colorama in c:\\anaconda3\\lib\\site-packages (from click->nltk>=3.8->textblob) (0.4.6)\n",
      "Installing collected packages: nltk, textblob\n",
      "  Attempting uninstall: nltk\n",
      "    Found existing installation: nltk 3.7\n",
      "    Uninstalling nltk-3.7:\n",
      "      Successfully uninstalled nltk-3.7\n",
      "Successfully installed nltk-3.8.1 textblob-0.18.0.post0\n"
     ]
    },
    {
     "name": "stderr",
     "output_type": "stream",
     "text": [
      "WARNING: Ignoring invalid distribution -okeh (c:\\anaconda3\\lib\\site-packages)\n",
      "WARNING: Ignoring invalid distribution -okeh (c:\\anaconda3\\lib\\site-packages)\n",
      "WARNING: Ignoring invalid distribution -okeh (c:\\anaconda3\\lib\\site-packages)\n",
      "    WARNING: Ignoring invalid distribution -okeh (c:\\anaconda3\\lib\\site-packages)\n",
      "WARNING: Ignoring invalid distribution -okeh (c:\\anaconda3\\lib\\site-packages)\n",
      "WARNING: Ignoring invalid distribution -okeh (c:\\anaconda3\\lib\\site-packages)\n",
      "WARNING: Ignoring invalid distribution -okeh (c:\\anaconda3\\lib\\site-packages)\n",
      "WARNING: Ignoring invalid distribution -okeh (c:\\anaconda3\\lib\\site-packages)\n",
      "WARNING: Ignoring invalid distribution -okeh (c:\\anaconda3\\lib\\site-packages)\n"
     ]
    },
    {
     "name": "stdout",
     "output_type": "stream",
     "text": [
      "Finished.\n"
     ]
    },
    {
     "name": "stderr",
     "output_type": "stream",
     "text": [
      "[nltk_data] Downloading package brown to\n",
      "[nltk_data]     C:\\Users\\홍사빈\\AppData\\Roaming\\nltk_data...\n",
      "[nltk_data]   Package brown is already up-to-date!\n",
      "[nltk_data] Downloading package punkt to\n",
      "[nltk_data]     C:\\Users\\홍사빈\\AppData\\Roaming\\nltk_data...\n",
      "[nltk_data]   Package punkt is already up-to-date!\n",
      "[nltk_data] Downloading package wordnet to\n",
      "[nltk_data]     C:\\Users\\홍사빈\\AppData\\Roaming\\nltk_data...\n",
      "[nltk_data]   Package wordnet is already up-to-date!\n",
      "[nltk_data] Downloading package averaged_perceptron_tagger to\n",
      "[nltk_data]     C:\\Users\\홍사빈\\AppData\\Roaming\\nltk_data...\n",
      "[nltk_data]   Package averaged_perceptron_tagger is already up-to-\n",
      "[nltk_data]       date!\n",
      "[nltk_data] Downloading package conll2000 to\n",
      "[nltk_data]     C:\\Users\\홍사빈\\AppData\\Roaming\\nltk_data...\n",
      "[nltk_data]   Package conll2000 is already up-to-date!\n",
      "[nltk_data] Downloading package movie_reviews to\n",
      "[nltk_data]     C:\\Users\\홍사빈\\AppData\\Roaming\\nltk_data...\n",
      "[nltk_data]   Package movie_reviews is already up-to-date!\n"
     ]
    }
   ],
   "source": [
    "!pip install -U textblob\n",
    "!python -m textblob.download_corpora"
   ]
  },
  {
   "cell_type": "code",
   "execution_count": 7,
   "id": "16e1b386",
   "metadata": {},
   "outputs": [
    {
     "name": "stdout",
     "output_type": "stream",
     "text": [
      "Sentiment(polarity=0.06479782948532947, subjectivity=0.5188408350908352)\n"
     ]
    }
   ],
   "source": [
    "from textblob import TextBlob\n",
    "\n",
    "result=TextBlob(reviews[0])\n",
    "print(result.sentiment)"
   ]
  },
  {
   "cell_type": "code",
   "execution_count": 8,
   "id": "ea6b763c",
   "metadata": {},
   "outputs": [],
   "source": [
    "def sentiment_TextBlob(docs):\n",
    "    results=[]\n",
    "    \n",
    "    for doc in docs:\n",
    "        testimonial=TextBlob(doc)\n",
    "        if testimonial.sentiment.polarity > 0:\n",
    "            results.append('pos')\n",
    "        else:\n",
    "            results.append('neg')\n",
    "            \n",
    "    return results"
   ]
  },
  {
   "cell_type": "code",
   "execution_count": 9,
   "id": "cfe4570d",
   "metadata": {},
   "outputs": [
    {
     "name": "stdout",
     "output_type": "stream",
     "text": [
      "#TextBlob을 이용한 리뷰 감성분석의 정확도: 0.6\n"
     ]
    }
   ],
   "source": [
    "from sklearn.metrics import accuracy_score\n",
    "\n",
    "print(\n",
    "    '#TextBlob을 이용한 리뷰 감성분석의 정확도:',\n",
    "    accuracy_score(categories, sentiment_TextBlob(reviews))\n",
    ")"
   ]
  },
  {
   "cell_type": "code",
   "execution_count": 10,
   "id": "74f8aabf",
   "metadata": {},
   "outputs": [
    {
     "name": "stdout",
     "output_type": "stream",
     "text": [
      "Collecting afinn\n",
      "  Downloading afinn-0.1.tar.gz (52 kB)\n",
      "     ---------------------------------------- 52.6/52.6 kB 2.8 MB/s eta 0:00:00\n",
      "  Preparing metadata (setup.py): started\n",
      "  Preparing metadata (setup.py): finished with status 'done'\n",
      "Building wheels for collected packages: afinn\n",
      "  Building wheel for afinn (setup.py): started\n",
      "  Building wheel for afinn (setup.py): finished with status 'done'\n",
      "  Created wheel for afinn: filename=afinn-0.1-py3-none-any.whl size=53437 sha256=c0aa4ee503df74237dfeca16731103b271b1ba1d3160a2c67ee4f3219fd5ece9\n",
      "  Stored in directory: c:\\users\\홍사빈\\appdata\\local\\pip\\cache\\wheels\\f0\\cb\\2b\\11d9c0e366428dd38f54a5e14c6252edcc669feec72c2d5ef8\n",
      "Successfully built afinn\n",
      "Installing collected packages: afinn\n",
      "Successfully installed afinn-0.1\n"
     ]
    },
    {
     "name": "stderr",
     "output_type": "stream",
     "text": [
      "WARNING: Ignoring invalid distribution -okeh (c:\\anaconda3\\lib\\site-packages)\n",
      "WARNING: Ignoring invalid distribution -okeh (c:\\anaconda3\\lib\\site-packages)\n",
      "WARNING: Ignoring invalid distribution -okeh (c:\\anaconda3\\lib\\site-packages)\n",
      "WARNING: Ignoring invalid distribution -okeh (c:\\anaconda3\\lib\\site-packages)\n",
      "WARNING: Ignoring invalid distribution -okeh (c:\\anaconda3\\lib\\site-packages)\n",
      "WARNING: Ignoring invalid distribution -okeh (c:\\anaconda3\\lib\\site-packages)\n",
      "WARNING: Ignoring invalid distribution -okeh (c:\\anaconda3\\lib\\site-packages)\n"
     ]
    }
   ],
   "source": [
    "!pip install afinn"
   ]
  },
  {
   "cell_type": "code",
   "execution_count": 11,
   "id": "13f32677",
   "metadata": {},
   "outputs": [
    {
     "name": "stdout",
     "output_type": "stream",
     "text": [
      "#Afinn을 이용한 리뷰 감성분석의 정확도: 0.664\n"
     ]
    }
   ],
   "source": [
    "from afinn import Afinn\n",
    "\n",
    "def sentiment_Afinn(docs):\n",
    "    afn=Afinn(emoticons=True)\n",
    "    results=[]\n",
    "    \n",
    "    for doc in docs:\n",
    "        if afn.score(doc) > 0:\n",
    "            results.append('pos')\n",
    "        else:\n",
    "            results.append('neg')\n",
    "    return results\n",
    "\n",
    "print(\n",
    "    '#Afinn을 이용한 리뷰 감성분석의 정확도:',\n",
    "    accuracy_score(categories, sentiment_Afinn(reviews))\n",
    ")"
   ]
  },
  {
   "cell_type": "code",
   "execution_count": 12,
   "id": "ad42e492",
   "metadata": {},
   "outputs": [
    {
     "name": "stdout",
     "output_type": "stream",
     "text": [
      "Collecting vaderSentiment\n",
      "  Downloading vaderSentiment-3.3.2-py2.py3-none-any.whl (125 kB)\n",
      "     -------------------------------------- 126.0/126.0 kB 2.5 MB/s eta 0:00:00\n",
      "Requirement already satisfied: requests in c:\\anaconda3\\lib\\site-packages (from vaderSentiment) (2.28.1)\n",
      "Requirement already satisfied: idna<4,>=2.5 in c:\\anaconda3\\lib\\site-packages (from requests->vaderSentiment) (3.4)\n",
      "Requirement already satisfied: certifi>=2017.4.17 in c:\\anaconda3\\lib\\site-packages (from requests->vaderSentiment) (2023.7.22)\n",
      "Requirement already satisfied: urllib3<1.27,>=1.21.1 in c:\\anaconda3\\lib\\site-packages (from requests->vaderSentiment) (1.26.14)\n",
      "Requirement already satisfied: charset-normalizer<3,>=2 in c:\\anaconda3\\lib\\site-packages (from requests->vaderSentiment) (2.0.4)\n",
      "Installing collected packages: vaderSentiment\n",
      "Successfully installed vaderSentiment-3.3.2\n"
     ]
    },
    {
     "name": "stderr",
     "output_type": "stream",
     "text": [
      "WARNING: Ignoring invalid distribution -okeh (c:\\anaconda3\\lib\\site-packages)\n",
      "WARNING: Ignoring invalid distribution -okeh (c:\\anaconda3\\lib\\site-packages)\n",
      "WARNING: Ignoring invalid distribution -okeh (c:\\anaconda3\\lib\\site-packages)\n",
      "WARNING: Ignoring invalid distribution -okeh (c:\\anaconda3\\lib\\site-packages)\n",
      "WARNING: Ignoring invalid distribution -okeh (c:\\anaconda3\\lib\\site-packages)\n",
      "WARNING: Ignoring invalid distribution -okeh (c:\\anaconda3\\lib\\site-packages)\n",
      "WARNING: Ignoring invalid distribution -okeh (c:\\anaconda3\\lib\\site-packages)\n"
     ]
    }
   ],
   "source": [
    "!pip install vaderSentiment"
   ]
  },
  {
   "cell_type": "code",
   "execution_count": 13,
   "id": "49131fb6",
   "metadata": {},
   "outputs": [
    {
     "name": "stdout",
     "output_type": "stream",
     "text": [
      "#Vader을 이용한 리뷰 감성 분석의 정확도: 0.635\n"
     ]
    }
   ],
   "source": [
    "from afinn import Afinn\n",
    "from nltk.sentiment.vader import SentimentIntensityAnalyzer\n",
    "\n",
    "def sentiment_vader(docs):\n",
    "    analyser=SentimentIntensityAnalyzer()\n",
    "    results=[]\n",
    "    \n",
    "    for doc in docs:\n",
    "        score=analyser.polarity_scores(doc)\n",
    "        if score['compound'] > 0:\n",
    "            results.append('pos')\n",
    "        else:\n",
    "            results.append('neg')\n",
    "    return results\n",
    "\n",
    "print(\n",
    "    '#Vader을 이용한 리뷰 감성 분석의 정확도:',\n",
    "    accuracy_score(categories, sentiment_vader(reviews))\n",
    ")"
   ]
  },
  {
   "cell_type": "code",
   "execution_count": null,
   "id": "a56222d5",
   "metadata": {},
   "outputs": [],
   "source": []
  }
 ],
 "metadata": {
  "kernelspec": {
   "display_name": "Python 3 (ipykernel)",
   "language": "python",
   "name": "python3"
  },
  "language_info": {
   "codemirror_mode": {
    "name": "ipython",
    "version": 3
   },
   "file_extension": ".py",
   "mimetype": "text/x-python",
   "name": "python",
   "nbconvert_exporter": "python",
   "pygments_lexer": "ipython3",
   "version": "3.10.9"
  }
 },
 "nbformat": 4,
 "nbformat_minor": 5
}
